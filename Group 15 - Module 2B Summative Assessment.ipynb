{
 "cells": [
  {
   "cell_type": "code",
   "execution_count": 1,
   "metadata": {},
   "outputs": [],
   "source": [
    "from tensorflow import keras\n",
    "import matplotlib.pyplot as plt\n",
    "from sklearn.model_selection import train_test_split\n",
    "from sklearn.model_selection import cross_validate\n",
    "from sklearn.metrics import accuracy_score, precision_score, recall_score, confusion_matrix,classification_report, make_scorer\n",
    "from sklearn.metrics import ConfusionMatrixDisplay\n",
    "from sklearn.tree import DecisionTreeClassifier\n",
    "import numpy as np\n",
    "from pathlib import Path\n",
    "import os.path\n",
    "import pandas as pd\n",
    "import matplotlib.pyplot as plt\n",
    "import numpy as np\n",
    "import cv2"
   ]
  },
  {
   "cell_type": "code",
   "execution_count": 2,
   "metadata": {},
   "outputs": [
    {
     "data": {
      "text/html": [
       "<div>\n",
       "<style scoped>\n",
       "    .dataframe tbody tr th:only-of-type {\n",
       "        vertical-align: middle;\n",
       "    }\n",
       "\n",
       "    .dataframe tbody tr th {\n",
       "        vertical-align: top;\n",
       "    }\n",
       "\n",
       "    .dataframe thead th {\n",
       "        text-align: right;\n",
       "    }\n",
       "</style>\n",
       "<table border=\"1\" class=\"dataframe\">\n",
       "  <thead>\n",
       "    <tr style=\"text-align: right;\">\n",
       "      <th></th>\n",
       "      <th>Filepath</th>\n",
       "      <th>Label</th>\n",
       "    </tr>\n",
       "  </thead>\n",
       "  <tbody>\n",
       "    <tr>\n",
       "      <th>0</th>\n",
       "      <td>Fish_Dataset\\Fish_Dataset\\Red Sea Bream\\Red Se...</td>\n",
       "      <td>Red Sea Bream</td>\n",
       "    </tr>\n",
       "    <tr>\n",
       "      <th>1</th>\n",
       "      <td>Fish_Dataset\\Fish_Dataset\\Red Sea Bream\\Red Se...</td>\n",
       "      <td>Red Sea Bream</td>\n",
       "    </tr>\n",
       "    <tr>\n",
       "      <th>2</th>\n",
       "      <td>Fish_Dataset\\Fish_Dataset\\Red Mullet\\Red Mulle...</td>\n",
       "      <td>Red Mullet</td>\n",
       "    </tr>\n",
       "    <tr>\n",
       "      <th>3</th>\n",
       "      <td>Fish_Dataset\\Fish_Dataset\\Red Mullet\\Red Mulle...</td>\n",
       "      <td>Red Mullet</td>\n",
       "    </tr>\n",
       "    <tr>\n",
       "      <th>4</th>\n",
       "      <td>Fish_Dataset\\Fish_Dataset\\Sea Bass\\Sea Bass\\00...</td>\n",
       "      <td>Sea Bass</td>\n",
       "    </tr>\n",
       "    <tr>\n",
       "      <th>...</th>\n",
       "      <td>...</td>\n",
       "      <td>...</td>\n",
       "    </tr>\n",
       "    <tr>\n",
       "      <th>1345</th>\n",
       "      <td>Fish_Dataset\\Fish_Dataset\\Red Sea Bream\\Red Se...</td>\n",
       "      <td>Red Sea Bream</td>\n",
       "    </tr>\n",
       "    <tr>\n",
       "      <th>1346</th>\n",
       "      <td>Fish_Dataset\\Fish_Dataset\\Shrimp\\Shrimp\\00930.png</td>\n",
       "      <td>Shrimp</td>\n",
       "    </tr>\n",
       "    <tr>\n",
       "      <th>1347</th>\n",
       "      <td>Fish_Dataset\\Fish_Dataset\\Striped Red Mullet\\S...</td>\n",
       "      <td>Striped Red Mullet</td>\n",
       "    </tr>\n",
       "    <tr>\n",
       "      <th>1348</th>\n",
       "      <td>Fish_Dataset\\Fish_Dataset\\Gilt-Head Bream\\Gilt...</td>\n",
       "      <td>Gilt-Head Bream</td>\n",
       "    </tr>\n",
       "    <tr>\n",
       "      <th>1349</th>\n",
       "      <td>Fish_Dataset\\Fish_Dataset\\Striped Red Mullet\\S...</td>\n",
       "      <td>Striped Red Mullet</td>\n",
       "    </tr>\n",
       "  </tbody>\n",
       "</table>\n",
       "<p>1350 rows × 2 columns</p>\n",
       "</div>"
      ],
      "text/plain": [
       "                                               Filepath               Label\n",
       "0     Fish_Dataset\\Fish_Dataset\\Red Sea Bream\\Red Se...       Red Sea Bream\n",
       "1     Fish_Dataset\\Fish_Dataset\\Red Sea Bream\\Red Se...       Red Sea Bream\n",
       "2     Fish_Dataset\\Fish_Dataset\\Red Mullet\\Red Mulle...          Red Mullet\n",
       "3     Fish_Dataset\\Fish_Dataset\\Red Mullet\\Red Mulle...          Red Mullet\n",
       "4     Fish_Dataset\\Fish_Dataset\\Sea Bass\\Sea Bass\\00...            Sea Bass\n",
       "...                                                 ...                 ...\n",
       "1345  Fish_Dataset\\Fish_Dataset\\Red Sea Bream\\Red Se...       Red Sea Bream\n",
       "1346  Fish_Dataset\\Fish_Dataset\\Shrimp\\Shrimp\\00930.png              Shrimp\n",
       "1347  Fish_Dataset\\Fish_Dataset\\Striped Red Mullet\\S...  Striped Red Mullet\n",
       "1348  Fish_Dataset\\Fish_Dataset\\Gilt-Head Bream\\Gilt...     Gilt-Head Bream\n",
       "1349  Fish_Dataset\\Fish_Dataset\\Striped Red Mullet\\S...  Striped Red Mullet\n",
       "\n",
       "[1350 rows x 2 columns]"
      ]
     },
     "execution_count": 2,
     "metadata": {},
     "output_type": "execute_result"
    }
   ],
   "source": [
    "image_dir = Path('Fish_Dataset/Fish_Dataset')\n",
    "filepaths = list(image_dir.glob(r'**/*.png'))\n",
    "labels = list(map(lambda x: os.path.split(os.path.split(x)[0])[1],filepaths))\n",
    "\n",
    "filepaths = pd.Series(filepaths, name='Filepath').astype(str)\n",
    "labels = pd.Series(labels, name='Label')\n",
    "\n",
    "image_df = pd.concat([filepaths,labels], axis=1)\n",
    "image_df['Label'] = image_df['Label'].apply(lambda x: np.NaN if x[-2:] == 'GT' else x)\n",
    "image_df = image_df.dropna(axis=0)\n",
    "\n",
    "samples = []\n",
    "for category in image_df['Label'].unique():\n",
    "    category_slice = image_df.query(\"Label == @category\")\n",
    "    samples.append(category_slice.sample(150, random_state=1))\n",
    "\n",
    "image_df = pd.concat(samples, axis=0).sample(frac=1.0, random_state=1).reset_index(drop=True)\n",
    "image_df"
   ]
  },
  {
   "cell_type": "code",
   "execution_count": 3,
   "metadata": {},
   "outputs": [],
   "source": [
    "image_df.to_csv('fishesDT.csv', index=False)"
   ]
  },
  {
   "cell_type": "code",
   "execution_count": 4,
   "metadata": {},
   "outputs": [],
   "source": [
    "a = np.zeros(shape=(1350,445,590,3))"
   ]
  },
  {
   "cell_type": "code",
   "execution_count": 5,
   "metadata": {},
   "outputs": [
    {
     "data": {
      "text/plain": [
       "(1350, 445, 590, 3)"
      ]
     },
     "execution_count": 5,
     "metadata": {},
     "output_type": "execute_result"
    }
   ],
   "source": [
    "count = 0\n",
    "for i in image_df['Filepath']:\n",
    "    img_path = i\n",
    "    img_arr = cv2.imread(img_path)\n",
    "    a[count] = img_arr\n",
    "    count += 1\n",
    "\n",
    "a.shape"
   ]
  },
  {
   "cell_type": "code",
   "execution_count": 6,
   "metadata": {},
   "outputs": [],
   "source": [
    "y_train = image_df['Label'].values"
   ]
  },
  {
   "cell_type": "code",
   "execution_count": 7,
   "metadata": {},
   "outputs": [],
   "source": [
    "#sklearn expects i/p to be 2d array-model.=>reshape to 2d array\n",
    "nsamples, nx, ny, nrgb = a.shape\n",
    "X_train = a.reshape((nsamples,nx*ny*nrgb))"
   ]
  },
  {
   "cell_type": "code",
   "execution_count": 8,
   "metadata": {},
   "outputs": [],
   "source": [
    "def cross_validation(model, _X, _y, _cv=5):\n",
    "    _scorers = {\n",
    "        'accuracy_score': make_scorer(accuracy_score),\n",
    "        'precision_score': make_scorer(precision_score, average='macro'),\n",
    "        'recall_score': make_scorer(recall_score, average='macro')\n",
    "    }\n",
    "    results = cross_validate(estimator=model,\n",
    "                               X=_X,\n",
    "                               y=_y,\n",
    "                               cv=_cv,\n",
    "                               scoring=_scorers,\n",
    "                               return_train_score=True)\n",
    "\n",
    "    return {\"Training Accuracy scores\": results['train_accuracy_score'],\n",
    "              \"Mean Training Accuracy\": results['train_accuracy_score'].mean()*100,\n",
    "              \"Training Precision scores\": results['train_precision_score'],\n",
    "              \"Mean Training Precision\": results['train_precision_score'].mean(),\n",
    "              \"Training Recall scores\": results['train_recall_score'],\n",
    "              \"Mean Training Recall\": results['train_recall_score'].mean(),\n",
    "              \"Validation Accuracy scores\": results['test_accuracy_score'],\n",
    "              \"Mean Validation Accuracy\": results['test_accuracy_score'].mean()*100,\n",
    "              \"Validation Precision scores\": results['test_precision_score'],\n",
    "              \"Mean Validation Precision\": results['test_precision_score'].mean(),\n",
    "              \"Validation Recall scores\": results['test_recall_score'],\n",
    "              \"Mean Validation Recall\": results['test_recall_score'].mean(),\n",
    "              }"
   ]
  },
  {
   "cell_type": "code",
   "execution_count": 9,
   "metadata": {},
   "outputs": [],
   "source": [
    "decision_tree_model = DecisionTreeClassifier(criterion=\"gini\", random_state=0)\n",
    "decision_tree_result = cross_validation(decision_tree_model, X_train, y_train, 5)"
   ]
  },
  {
   "cell_type": "code",
   "execution_count": null,
   "metadata": {},
   "outputs": [
    {
     "name": "stdout",
     "output_type": "stream",
     "text": [
      "{'Training Accuracy scores': array([1., 1., 1., 1., 1.]), 'Mean Training Accuracy': 100.0, 'Training Precision scores': array([1., 1., 1., 1., 1.]), 'Mean Training Precision': 1.0, 'Training Recall scores': array([1., 1., 1., 1., 1.]), 'Mean Training Recall': 1.0, 'Validation Accuracy scores': array([0.40740741, 0.45185185, 0.38518519, 0.4037037 , 0.43703704]), 'Mean Validation Accuracy': 41.703703703703695, 'Validation Precision scores': array([0.40501302, 0.45817151, 0.39074708, 0.41652473, 0.43753029]), 'Mean Validation Precision': 0.4215973238916978, 'Validation Recall scores': array([0.40740741, 0.45185185, 0.38518519, 0.4037037 , 0.43703704]), 'Mean Validation Recall': 0.417037037037037}\n"
     ]
    }
   ],
   "source": [
    "print(decision_tree_result)"
   ]
  }
 ],
 "metadata": {
  "kernelspec": {
   "display_name": "Python 3.10.5 64-bit",
   "language": "python",
   "name": "python3"
  },
  "language_info": {
   "codemirror_mode": {
    "name": "ipython",
    "version": 3
   },
   "file_extension": ".py",
   "mimetype": "text/x-python",
   "name": "python",
   "nbconvert_exporter": "python",
   "pygments_lexer": "ipython3",
   "version": "3.10.5"
  },
  "vscode": {
   "interpreter": {
    "hash": "e568e4913ed3a5418050f05b8ec0348cfe31469c376a761d24cc10ae1d3b12bb"
   }
  }
 },
 "nbformat": 4,
 "nbformat_minor": 2
}
